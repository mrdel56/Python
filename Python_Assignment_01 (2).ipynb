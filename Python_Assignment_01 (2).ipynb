{
  "nbformat": 4,
  "nbformat_minor": 0,
  "metadata": {
    "colab": {
      "provenance": [],
      "toc_visible": true
    },
    "kernelspec": {
      "name": "python3",
      "display_name": "Python 3"
    },
    "language_info": {
      "name": "python"
    }
  },
  "cells": [
    {
      "cell_type": "markdown",
      "source": [
        "# Python Basics 55 Problems"
      ],
      "metadata": {
        "id": "pis0gLbHph4a"
      }
    },
    {
      "cell_type": "markdown",
      "source": [
        "#Print"
      ],
      "metadata": {
        "id": "3yPWgPX90YNf"
      }
    },
    {
      "cell_type": "markdown",
      "source": [
        "1. Print Hello World!"
      ],
      "metadata": {
        "id": "4Kyw2FsK1L9H"
      }
    },
    {
      "cell_type": "code",
      "execution_count": null,
      "metadata": {
        "colab": {
          "base_uri": "https://localhost:8080/"
        },
        "id": "ciismsAlT03d",
        "outputId": "fd90de79-cac0-42d7-a9b9-37515e90e563"
      },
      "outputs": [
        {
          "output_type": "stream",
          "name": "stdout",
          "text": [
            "Hello World!\n"
          ]
        }
      ],
      "source": [
        "print(\"Hello World!\")"
      ]
    },
    {
      "cell_type": "markdown",
      "source": [
        "2. Print multiple line of code"
      ],
      "metadata": {
        "id": "_4Cv9pQV1Zy2"
      }
    },
    {
      "cell_type": "code",
      "source": [
        "a = \"\"\"I am Delowar Hossain.\n",
        "I live in Dhaka.\n",
        "I read in University of Asia Pacific\"\"\"\n",
        "print(a)"
      ],
      "metadata": {
        "colab": {
          "base_uri": "https://localhost:8080/"
        },
        "id": "BCrq8pxnUnE0",
        "outputId": "f662250b-14a1-46a0-ff9e-c1cddda11ba8"
      },
      "execution_count": null,
      "outputs": [
        {
          "output_type": "stream",
          "name": "stdout",
          "text": [
            "Python is fun\n"
          ]
        }
      ]
    },
    {
      "cell_type": "markdown",
      "source": [
        "3. Print result of 5+8"
      ],
      "metadata": {
        "id": "8F87rJXQ1rHP"
      }
    },
    {
      "cell_type": "code",
      "source": [
        "print(5+8)"
      ],
      "metadata": {
        "id": "KHJoI1_rVgsc",
        "colab": {
          "base_uri": "https://localhost:8080/"
        },
        "outputId": "f4d7d4de-fcf7-44b0-9cc0-730b1998f63e"
      },
      "execution_count": null,
      "outputs": [
        {
          "output_type": "stream",
          "name": "stdout",
          "text": [
            "13\n"
          ]
        }
      ]
    },
    {
      "cell_type": "markdown",
      "source": [
        "4. Print slash(\"\\\\\")"
      ],
      "metadata": {
        "id": "-JWfLNKW2IK3"
      }
    },
    {
      "cell_type": "code",
      "source": [
        "print(\"\\\\\")"
      ],
      "metadata": {
        "colab": {
          "base_uri": "https://localhost:8080/"
        },
        "id": "8ST2pUHu2GMH",
        "outputId": "01cf00a0-3ed1-4804-885d-2ce9394c08d0"
      },
      "execution_count": null,
      "outputs": [
        {
          "output_type": "stream",
          "name": "stdout",
          "text": [
            "\\\n"
          ]
        }
      ]
    },
    {
      "cell_type": "markdown",
      "source": [
        "5. Print Happy New Year 2024"
      ],
      "metadata": {
        "id": "OmaZMW-S2iNP"
      }
    },
    {
      "cell_type": "code",
      "source": [
        "print(\"Happy New Year\", + 2024)"
      ],
      "metadata": {
        "colab": {
          "base_uri": "https://localhost:8080/"
        },
        "id": "E_Mx6FeP2flf",
        "outputId": "d2aaaae0-c450-406f-c035-9b8b3e85750e"
      },
      "execution_count": null,
      "outputs": [
        {
          "output_type": "stream",
          "name": "stdout",
          "text": [
            "Happy New Year 2024\n"
          ]
        }
      ]
    },
    {
      "cell_type": "code",
      "source": [],
      "metadata": {
        "id": "5vKOwinu3Efm"
      },
      "execution_count": null,
      "outputs": []
    },
    {
      "cell_type": "markdown",
      "source": [
        "# Variables"
      ],
      "metadata": {
        "id": "n37V8p6l3Mxf"
      }
    },
    {
      "cell_type": "markdown",
      "source": [
        "1. Create two variable and add them, then hold in another variable"
      ],
      "metadata": {
        "id": "CeSNNn3e3SIq"
      }
    },
    {
      "cell_type": "code",
      "source": [
        "a = 5\n",
        "b = 10\n",
        "c = a + b\n",
        "print(c)"
      ],
      "metadata": {
        "colab": {
          "base_uri": "https://localhost:8080/"
        },
        "id": "j-gp6biT3Qt-",
        "outputId": "408641ca-e242-4608-dcc5-eaa6baa0b3fc"
      },
      "execution_count": null,
      "outputs": [
        {
          "output_type": "stream",
          "name": "stdout",
          "text": [
            "15\n"
          ]
        }
      ]
    },
    {
      "cell_type": "markdown",
      "source": [
        "2. Create two variable and concate these"
      ],
      "metadata": {
        "id": "JlY1u3lW32B_"
      }
    },
    {
      "cell_type": "code",
      "source": [
        "a = \"Happy new year\"\n",
        "b = \" 2024\"\n",
        "c = a + b\n",
        "print(c)"
      ],
      "metadata": {
        "colab": {
          "base_uri": "https://localhost:8080/"
        },
        "id": "Pu7NoE853zSm",
        "outputId": "5ec99500-4eab-42be-b394-6ca8abfb4938"
      },
      "execution_count": null,
      "outputs": [
        {
          "output_type": "stream",
          "name": "stdout",
          "text": [
            "Happy new year 2024\n"
          ]
        }
      ]
    },
    {
      "cell_type": "markdown",
      "source": [
        "3. Assign a value to a variable, then reassign it with a different value."
      ],
      "metadata": {
        "id": "tZu62R-t4gXH"
      }
    },
    {
      "cell_type": "code",
      "source": [
        "variable = 10\n",
        "print(\"Original Value:\", variable)\n",
        "\n",
        "variable = 20\n",
        "print(\"Reassigned Value:\", variable)"
      ],
      "metadata": {
        "id": "A1APbFiq4SsW",
        "colab": {
          "base_uri": "https://localhost:8080/"
        },
        "outputId": "df3d99ea-da8a-442b-dfcd-f2b1f5035538"
      },
      "execution_count": null,
      "outputs": [
        {
          "output_type": "stream",
          "name": "stdout",
          "text": [
            "Original Value: 10\n",
            "Reassigned Value: 20\n"
          ]
        }
      ]
    },
    {
      "cell_type": "markdown",
      "source": [
        "4. Convert a variable from one type to another."
      ],
      "metadata": {
        "id": "sxls0i-e9eVG"
      }
    },
    {
      "cell_type": "code",
      "source": [
        "num_str = \"5\"\n",
        "num_int = int(num_str)\n",
        "\n",
        "print(\"Converted to Integer:\", num_int)"
      ],
      "metadata": {
        "colab": {
          "base_uri": "https://localhost:8080/"
        },
        "id": "vpOKBqpS9LaG",
        "outputId": "c57850d2-faa0-4b18-fd6b-7494da462d0a"
      },
      "execution_count": null,
      "outputs": [
        {
          "output_type": "stream",
          "name": "stdout",
          "text": [
            "Converted to Integer: 5\n"
          ]
        }
      ]
    },
    {
      "cell_type": "markdown",
      "source": [
        "5. Create variables with different names, including valid and invalid variable names."
      ],
      "metadata": {
        "id": "GcKk6KyH96uY"
      }
    },
    {
      "cell_type": "code",
      "source": [
        "valid_variable = 42\n",
        "print(valid_variable)"
      ],
      "metadata": {
        "colab": {
          "base_uri": "https://localhost:8080/"
        },
        "id": "kY9u7qo_9rwH",
        "outputId": "49fcc4aa-d701-4e49-cd5c-a38757ef2a9e"
      },
      "execution_count": null,
      "outputs": [
        {
          "output_type": "stream",
          "name": "stdout",
          "text": [
            "42\n"
          ]
        }
      ]
    },
    {
      "cell_type": "code",
      "source": [
        "invalid-variable = \"This will result in an error\"\n",
        "print(invalid-variable)"
      ],
      "metadata": {
        "colab": {
          "base_uri": "https://localhost:8080/",
          "height": 158
        },
        "id": "pNAVbEJc-E-k",
        "outputId": "08d7647c-dc90-48c2-cc42-21f2dd907a95"
      },
      "execution_count": null,
      "outputs": [
        {
          "output_type": "error",
          "ename": "SyntaxError",
          "evalue": "cannot assign to expression here. Maybe you meant '==' instead of '='? (<ipython-input-16-0c9420f7cec2>, line 1)",
          "traceback": [
            "\u001b[0;36m  File \u001b[0;32m\"<ipython-input-16-0c9420f7cec2>\"\u001b[0;36m, line \u001b[0;32m1\u001b[0m\n\u001b[0;31m    invalid-variable = \"This will result in an error\"\u001b[0m\n\u001b[0m    ^\u001b[0m\n\u001b[0;31mSyntaxError\u001b[0m\u001b[0;31m:\u001b[0m cannot assign to expression here. Maybe you meant '==' instead of '='?\n"
          ]
        }
      ]
    },
    {
      "cell_type": "markdown",
      "source": [
        "# Operations"
      ],
      "metadata": {
        "id": "rd_4DmOx_Cuw"
      }
    },
    {
      "cell_type": "markdown",
      "source": [
        "1. Write a Python program that calculates the area and perimeter of a rectangle."
      ],
      "metadata": {
        "id": "s6IGBdJSBrI4"
      }
    },
    {
      "cell_type": "code",
      "source": [
        "length = 12.5\n",
        "width = 13.25\n",
        "area = length * width\n",
        "perimeter = 2 * (length + width)\n",
        "\n",
        "# Display Results\n",
        "print(\"Area of the rectangle:\", area)\n",
        "print(\"Perimeter of the rectangle:\", perimeter)"
      ],
      "metadata": {
        "colab": {
          "base_uri": "https://localhost:8080/"
        },
        "id": "CE-9s67I_dfU",
        "outputId": "88a6560d-24c6-43e4-f097-7f1a20d55f0b"
      },
      "execution_count": null,
      "outputs": [
        {
          "output_type": "stream",
          "name": "stdout",
          "text": [
            "Area of the rectangle: 165.625\n",
            "Perimeter of the rectangle: 51.5\n"
          ]
        }
      ]
    },
    {
      "cell_type": "markdown",
      "source": [
        "2. Write a Python program that create two variables. Perform the following comparison operations and display the results:\n",
        "\n"
      ],
      "metadata": {
        "id": "G0Ndq162DVEm"
      }
    },
    {
      "cell_type": "markdown",
      "source": [
        "1.Check if the first number is equal to second number.\n",
        "\n",
        "2.Check if the first number is not equal to second number.\n",
        "\n",
        "3.Check if the first number is greater than the second number.\n",
        "\n",
        "4.Check if the first number is less than or equal to the second number.\n",
        "\n",
        "5.Check if the first number is greater than or equal to the second number\n",
        "\n",
        "6.Check if the fist number is less or equal to the second number"
      ],
      "metadata": {
        "id": "-iBFqK-CKusb"
      }
    },
    {
      "cell_type": "code",
      "source": [
        "a = 4\n",
        "b = 5\n",
        "print(\"Equal: \", a==b)\n",
        "print(\"Not Equal: \", a!=b)\n",
        "print(\"Greater than: \", a>b)\n",
        "print(\"Less than: \", a<b)\n",
        "print(\"Greater than or Equal to: \", a>=b)\n",
        "print(\"Less than or Equal to: \", a<=b)"
      ],
      "metadata": {
        "colab": {
          "base_uri": "https://localhost:8080/"
        },
        "id": "-9iZgC91DCmT",
        "outputId": "2246d53c-6ad4-48dd-82d2-a6b55549d7de"
      },
      "execution_count": null,
      "outputs": [
        {
          "output_type": "stream",
          "name": "stdout",
          "text": [
            "Equal:  False\n",
            "Not Equal:  True\n",
            "Greater than:  False\n",
            "Less than:  True\n",
            "Greater than or Equal to:  False\n",
            "Less than or Equal to:  True\n"
          ]
        }
      ]
    },
    {
      "cell_type": "markdown",
      "source": [
        "3. Create a Python program that initializes a variable with an initial value and then updates its value using assignment operators. Perform the following operations:\n",
        "\n"
      ],
      "metadata": {
        "id": "DZlKEVrVKiUs"
      }
    },
    {
      "cell_type": "markdown",
      "source": [
        "1.Initialize a variable counter with an initial value of 5.\n",
        "\n",
        "2.Increment the value of counter by 2.\n",
        "\n",
        "3.Multiply the value of counter by 3.\n",
        "\n",
        "4.Update the value of counter by adding 7.\n",
        "\n",
        "5.Display the final value of counter."
      ],
      "metadata": {
        "id": "_0YCg6yVK6t0"
      }
    },
    {
      "cell_type": "code",
      "source": [
        "counter = 5\n",
        "\n",
        "\n",
        "counter += 2  # Increment by 2\n",
        "counter *= 3  # Multiply by 3\n",
        "counter += 7  # Add 7\n",
        "\n",
        "\n",
        "print(\"Final value of counter:\", counter)"
      ],
      "metadata": {
        "colab": {
          "base_uri": "https://localhost:8080/"
        },
        "id": "iVm9DOjbEZxR",
        "outputId": "8a87ff74-d76c-451f-c93b-415182e729ab"
      },
      "execution_count": null,
      "outputs": [
        {
          "output_type": "stream",
          "name": "stdout",
          "text": [
            "Final value of counter: 28\n"
          ]
        }
      ]
    },
    {
      "cell_type": "markdown",
      "source": [
        "4. Check if a specific element is present in a given list."
      ],
      "metadata": {
        "id": "-YA9kXERt3iA"
      }
    },
    {
      "cell_type": "code",
      "source": [
        "my_list = [1, 2, 3, 4, 5]\n",
        "element_to_check = 3\n",
        "\n",
        "# Solution using 'in' operator\n",
        "if element_to_check in my_list:\n",
        "    print(f\"{element_to_check} is present in the list\")\n",
        "else:\n",
        "    print(f\"{element_to_check} is not present in the list\")"
      ],
      "metadata": {
        "id": "pbtbF58RLJsy",
        "colab": {
          "base_uri": "https://localhost:8080/"
        },
        "outputId": "4f255e97-6f10-437b-beb8-5cbe5a50256a"
      },
      "execution_count": null,
      "outputs": [
        {
          "output_type": "stream",
          "name": "stdout",
          "text": [
            "3 is present in the list\n"
          ]
        }
      ]
    },
    {
      "cell_type": "markdown",
      "source": [
        "5. Python program to check whether the  number is even or not."
      ],
      "metadata": {
        "id": "hDY2SPCfv60w"
      }
    },
    {
      "cell_type": "code",
      "source": [
        "number = 8\n",
        "x = number%2\n",
        "if x == 0:\n",
        "    print(\"The number is Even.\")\n",
        "else:\n",
        "    print(\"The number is Odd.\")"
      ],
      "metadata": {
        "colab": {
          "base_uri": "https://localhost:8080/"
        },
        "id": "aM7GbgpwvzBe",
        "outputId": "bcd75361-87c2-482a-b7a7-b3d37bade9f6"
      },
      "execution_count": null,
      "outputs": [
        {
          "output_type": "stream",
          "name": "stdout",
          "text": [
            "The number is Even.\n"
          ]
        }
      ]
    },
    {
      "cell_type": "code",
      "source": [],
      "metadata": {
        "id": "obP661g5wEle"
      },
      "execution_count": null,
      "outputs": []
    },
    {
      "cell_type": "markdown",
      "source": [
        "# Strings"
      ],
      "metadata": {
        "id": "8nlW0LhYwVgf"
      }
    },
    {
      "cell_type": "markdown",
      "source": [
        "1. Create two strings and concatenate them and calculate the concatenated string."
      ],
      "metadata": {
        "id": "K-ZZPALHwxJa"
      }
    },
    {
      "cell_type": "code",
      "source": [
        "str1 = \"Hello\"\n",
        "str2 = \"World\"\n",
        "result = str1 + \" \" + str2\n",
        "print(result)\n",
        "print(len(result))"
      ],
      "metadata": {
        "colab": {
          "base_uri": "https://localhost:8080/"
        },
        "id": "vljbrQpKwaMd",
        "outputId": "64e6dfb9-8ccd-4ae9-a068-d0e31c343e39"
      },
      "execution_count": null,
      "outputs": [
        {
          "output_type": "stream",
          "name": "stdout",
          "text": [
            "Hello World\n",
            "11\n"
          ]
        }
      ]
    },
    {
      "cell_type": "markdown",
      "source": [
        "2. Create a program to Convert a string to uppercase and lowercase"
      ],
      "metadata": {
        "id": "ZGdbvk4gzHBX"
      }
    },
    {
      "cell_type": "code",
      "source": [
        "str = \"Happy New Year\"\n",
        "uppercase_str = str.upper()\n",
        "lowercase_str = str.lower()\n",
        "print(uppercase_str)\n",
        "print(lowercase_str)"
      ],
      "metadata": {
        "colab": {
          "base_uri": "https://localhost:8080/"
        },
        "id": "_ICfJ2s1xTk4",
        "outputId": "ad6163d9-0a66-4ebf-efdd-7c27e5443591"
      },
      "execution_count": null,
      "outputs": [
        {
          "output_type": "stream",
          "name": "stdout",
          "text": [
            "HAPPY NEW YEAR\n",
            "happy new year\n"
          ]
        }
      ]
    },
    {
      "cell_type": "markdown",
      "source": [
        "3.  Create a program to replace a specific character in a string."
      ],
      "metadata": {
        "id": "q93Eg7n5z4-B"
      }
    },
    {
      "cell_type": "code",
      "source": [
        "sentence = \"I love C\"\n",
        "updated_sentence = sentence.replace(\"C\", \"Python\")\n",
        "supper_updated_sen = sentence.replace(\"C\", \"C++\")\n",
        "print(updated_sentence)\n",
        "print(supper_updated_sen)"
      ],
      "metadata": {
        "colab": {
          "base_uri": "https://localhost:8080/"
        },
        "id": "hyWb-82uzpns",
        "outputId": "379d538b-3a99-42b6-d59b-0029a320cc4b"
      },
      "execution_count": null,
      "outputs": [
        {
          "output_type": "stream",
          "name": "stdout",
          "text": [
            "I love Python\n",
            "10\n"
          ]
        }
      ]
    },
    {
      "cell_type": "markdown",
      "source": [
        "4. Create a program to count a specific character occurences from a string."
      ],
      "metadata": {
        "id": "OH3LgffS0nST"
      }
    },
    {
      "cell_type": "code",
      "source": [
        "str1 = \"python programming\"\n",
        "\n",
        "char_count = str.count('p')\n",
        "\n",
        "print(f\"Occurrences of 'p': {char_count}\")"
      ],
      "metadata": {
        "colab": {
          "base_uri": "https://localhost:8080/"
        },
        "id": "mR9vqi9y0DWD",
        "outputId": "7af24a20-a63a-46fc-b659-c3e1e8234108"
      },
      "execution_count": null,
      "outputs": [
        {
          "output_type": "stream",
          "name": "stdout",
          "text": [
            "Occurrences of 'p': 2\n"
          ]
        }
      ]
    },
    {
      "cell_type": "markdown",
      "source": [
        "5. Create a program to Count the occurrences of a substring in a given string."
      ],
      "metadata": {
        "id": "fJaLTccm165e"
      }
    },
    {
      "cell_type": "code",
      "source": [
        "main_str = \"abababdbdababb\"\n",
        "sub_str = \"ab\"\n",
        "count = main_str.count(sub_str)\n",
        "print(count)"
      ],
      "metadata": {
        "colab": {
          "base_uri": "https://localhost:8080/"
        },
        "id": "I2rjmEr61tGv",
        "outputId": "c161356e-3209-4f92-f36e-d1918f5d7051"
      },
      "execution_count": null,
      "outputs": [
        {
          "output_type": "stream",
          "name": "stdout",
          "text": [
            "5\n"
          ]
        }
      ]
    },
    {
      "cell_type": "code",
      "source": [],
      "metadata": {
        "id": "BXiha13y2XRf"
      },
      "execution_count": null,
      "outputs": []
    },
    {
      "cell_type": "markdown",
      "source": [
        "# Control-Flow"
      ],
      "metadata": {
        "id": "_6DBC-cC2epb"
      }
    },
    {
      "cell_type": "markdown",
      "source": [
        "1. Create a program that checks whether a given number is positive, negative, or zero."
      ],
      "metadata": {
        "id": "yt6PAFUs3Q-S"
      }
    },
    {
      "cell_type": "code",
      "source": [
        "number = 9\n",
        "if number > 0:\n",
        "    print(\"Positive\")\n",
        "elif number < 0:\n",
        "    print(\"Negative\")\n",
        "else:\n",
        "    print(\"Zero\")"
      ],
      "metadata": {
        "colab": {
          "base_uri": "https://localhost:8080/"
        },
        "id": "kU_5_cP_3M1H",
        "outputId": "bbb2f970-06b7-4805-a5e3-770dd92ffd38"
      },
      "execution_count": null,
      "outputs": [
        {
          "output_type": "stream",
          "name": "stdout",
          "text": [
            "Positive\n"
          ]
        }
      ]
    },
    {
      "cell_type": "markdown",
      "source": [
        "2. Write a Python program to determine if a year is a leap year."
      ],
      "metadata": {
        "id": "CQOIJqXW38S1"
      }
    },
    {
      "cell_type": "code",
      "source": [
        "year = 2024\n",
        "if (year % 4 == 0 and year % 100 != 0) or (year % 400 == 0):\n",
        "    print(f\"{year} is a leap year.\")\n",
        "else:\n",
        "    print(f\"{year} is not a leap year.\")"
      ],
      "metadata": {
        "colab": {
          "base_uri": "https://localhost:8080/"
        },
        "id": "4wtI5-5K3w9v",
        "outputId": "69aa5349-3c04-435f-a89c-351af7ca8d16"
      },
      "execution_count": null,
      "outputs": [
        {
          "output_type": "stream",
          "name": "stdout",
          "text": [
            "2024 is a leap year.\n"
          ]
        }
      ]
    },
    {
      "cell_type": "markdown",
      "source": [
        "3.Create a program to check whether the integer is a multiple of 5"
      ],
      "metadata": {
        "id": "3w3ckjY84fmo"
      }
    },
    {
      "cell_type": "code",
      "source": [
        "number = 23\n",
        "if(number%5==0):\n",
        "    print(number, \"is a multile of 5\")\n",
        "else:\n",
        "    print(number, \"is not a multiple of 5\")"
      ],
      "metadata": {
        "colab": {
          "base_uri": "https://localhost:8080/"
        },
        "id": "A0XYmwQY4DAJ",
        "outputId": "5bf5a6e1-3fb9-43a8-df77-a77821a2ff19"
      },
      "execution_count": null,
      "outputs": [
        {
          "output_type": "stream",
          "name": "stdout",
          "text": [
            "23 is not a multiple of 5\n"
          ]
        }
      ]
    },
    {
      "cell_type": "markdown",
      "source": [
        "4. Create a program to check whether the integer is a multiple of both 5 and 7"
      ],
      "metadata": {
        "id": "inX36rX0436F"
      }
    },
    {
      "cell_type": "code",
      "source": [
        "number = 30\n",
        "if((number%5==0)and(number%7==0)):\n",
        "    print(number, \"is a multiple of both 5 and 7\")\n",
        "else:\n",
        "    print(number, \"is not a multiple of both 5 and 7\")"
      ],
      "metadata": {
        "colab": {
          "base_uri": "https://localhost:8080/"
        },
        "id": "UIpx-J1v5B_D",
        "outputId": "3ff57e3e-bf52-4d2a-ad0a-50db8dafeb52"
      },
      "execution_count": null,
      "outputs": [
        {
          "output_type": "stream",
          "name": "stdout",
          "text": [
            "30 is not a multiple of both 5 and 7\n"
          ]
        }
      ]
    },
    {
      "cell_type": "markdown",
      "source": [
        "5. Write a Python program that detect a person is able to give his or her vote or not. If the age is less than 18, print \"No,He/She can not give vote,\" otherwise, print \"Yes, He can give vote.\""
      ],
      "metadata": {
        "id": "jp1Hq6ba5cqh"
      }
    },
    {
      "cell_type": "code",
      "source": [
        "age = 29\n",
        "if age >= 18:\n",
        "  print(\"Yes, He/She can give vote\")\n",
        "else:\n",
        "  print(\"No, He/She can not give vote\")"
      ],
      "metadata": {
        "colab": {
          "base_uri": "https://localhost:8080/"
        },
        "id": "WY67E_YP5RZA",
        "outputId": "df0269fd-c491-493a-e313-3a7b16de601c"
      },
      "execution_count": null,
      "outputs": [
        {
          "output_type": "stream",
          "name": "stdout",
          "text": [
            "Yes, He/She can give vote\n"
          ]
        }
      ]
    },
    {
      "cell_type": "code",
      "source": [],
      "metadata": {
        "id": "dQauSfnF62Zb"
      },
      "execution_count": null,
      "outputs": []
    },
    {
      "cell_type": "markdown",
      "source": [
        "# User-Input"
      ],
      "metadata": {
        "id": "tCMbTlKw8fIx"
      }
    },
    {
      "cell_type": "markdown",
      "source": [
        "1. Write a Python program that takes user input for their name and age. Then, print a message greeting the user and stating their age."
      ],
      "metadata": {
        "id": "fi_b70mkAicf"
      }
    },
    {
      "cell_type": "code",
      "source": [
        "name = input(\"Enter your name: \")\n",
        "age = int(input(\"Enter your age: \"))\n",
        "\n",
        "# Print a greeting message with the user's age\n",
        "print(f\"Hello, {name}! You are {age} years old.\")"
      ],
      "metadata": {
        "colab": {
          "base_uri": "https://localhost:8080/"
        },
        "id": "H_58PK2DAhRw",
        "outputId": "280ed1b4-bd0d-4123-9f76-f1baa556d858"
      },
      "execution_count": null,
      "outputs": [
        {
          "output_type": "stream",
          "name": "stdout",
          "text": [
            "Enter your name: Delowar Hossain\n",
            "Enter your age: 24\n",
            "Hello, Delowar Hossain! You are 24 years old.\n"
          ]
        }
      ]
    },
    {
      "cell_type": "markdown",
      "source": [
        "2. Find the Largest Among Three Numbers in Python"
      ],
      "metadata": {
        "id": "ZdIEv8D-9MYt"
      }
    },
    {
      "cell_type": "code",
      "source": [
        "num1 = int(input(\"Enter the first number: \"))\n",
        "num2 = int(input(\"Enter the second number: \"))\n",
        "num3 = int(input(\"Enter the third number: \"))\n",
        "\n",
        "if num1 >= num2 and num1 >= num3:\n",
        "    largest = num1\n",
        "elif num2 >= num1 and num2 >= num3:\n",
        "    largest = num2\n",
        "else:\n",
        "    largest = num3\n",
        "\n",
        "print(f\"The largest number among {num1}, {num2}, and {num3} is {largest}.\")"
      ],
      "metadata": {
        "colab": {
          "base_uri": "https://localhost:8080/"
        },
        "id": "gbzLe1DR9gBk",
        "outputId": "a16a58ae-e866-4a1a-a443-4ad9a69eedc2"
      },
      "execution_count": null,
      "outputs": [
        {
          "output_type": "stream",
          "name": "stdout",
          "text": [
            "Enter the first number: 5\n",
            "Enter the second number: 7\n",
            "Enter the third number: 9\n",
            "The largest number among 5, 7, and 9 is 9.\n"
          ]
        }
      ]
    },
    {
      "cell_type": "markdown",
      "source": [
        "3. Create program to convert the temperature in degree centigrade to Fahrenheit"
      ],
      "metadata": {
        "id": "IHsHTMxh-HBK"
      }
    },
    {
      "cell_type": "code",
      "source": [
        "c = float(input(\"Enter temperature in Centigrade: \"))\n",
        "f = (9*(c)/5)+32\n",
        "print(\"Temperature in Fahrenheit is: \", f)"
      ],
      "metadata": {
        "colab": {
          "base_uri": "https://localhost:8080/"
        },
        "id": "jsi06r3k9xVN",
        "outputId": "cd996810-8d84-4836-8310-b16e0736cf1a"
      },
      "execution_count": null,
      "outputs": [
        {
          "output_type": "stream",
          "name": "stdout",
          "text": [
            "Enter temperature in Centigrade: 36.37\n",
            "Temperature in Fahrenheit is:  97.466\n"
          ]
        }
      ]
    },
    {
      "cell_type": "markdown",
      "source": [
        "4. Create a program to check whether the given number is even or not."
      ],
      "metadata": {
        "id": "wdLNvspV-mgV"
      }
    },
    {
      "cell_type": "code",
      "source": [
        "number = int(input(\"Enter a number: \"))\n",
        "x = number%2\n",
        "if x == 0:\n",
        "    print(\"The number is Even.\")\n",
        "else:\n",
        "    print(\"The number is Odd.\")"
      ],
      "metadata": {
        "colab": {
          "base_uri": "https://localhost:8080/"
        },
        "id": "-7-uEYzG-ZOq",
        "outputId": "4de6ac10-4eb4-451f-f43b-fe3c623c257f"
      },
      "execution_count": null,
      "outputs": [
        {
          "output_type": "stream",
          "name": "stdout",
          "text": [
            "Enter a number: 5\n",
            "The number is Odd.\n"
          ]
        }
      ]
    },
    {
      "cell_type": "markdown",
      "source": [
        "5. Python program to find the perimeter and area of a rectangle."
      ],
      "metadata": {
        "id": "iPXGirnD-87G"
      }
    },
    {
      "cell_type": "code",
      "source": [
        "height = float(input(\"Enter the height: \"))\n",
        "width = float(input(\"Enter the width: \"))\n",
        "\n",
        "area = height*width\n",
        "perimeter = 2*(height+width)\n",
        "print(\"The Area of the Rectangle is: \",area)\n",
        "print(\"The Perimeter of the Rectangle is: \", perimeter)"
      ],
      "metadata": {
        "colab": {
          "base_uri": "https://localhost:8080/"
        },
        "id": "KstJ-_LB-z30",
        "outputId": "9237fe21-037a-4642-cbf7-9124d35a2b79"
      },
      "execution_count": null,
      "outputs": [
        {
          "output_type": "stream",
          "name": "stdout",
          "text": [
            "Enter the height: 55.5\n",
            "Enter the width: 3.33\n",
            "The Area of the Rectangle is:  184.815\n",
            "The Perimeter of the Rectangle is:  117.66\n"
          ]
        }
      ]
    },
    {
      "cell_type": "code",
      "source": [],
      "metadata": {
        "id": "ze4ZMmCJ_xp6"
      },
      "execution_count": null,
      "outputs": []
    },
    {
      "cell_type": "markdown",
      "source": [
        "# LOOP"
      ],
      "metadata": {
        "id": "kwI-de55A_AR"
      }
    },
    {
      "cell_type": "markdown",
      "source": [
        "1. Python program to find the average of 10 numbers using while loop"
      ],
      "metadata": {
        "id": "rYF1btNr-_B9"
      }
    },
    {
      "cell_type": "code",
      "source": [
        "count = 0\n",
        "sum = 0.0\n",
        "while(count<10):\n",
        "    number = float(input(\"Enter a real number: \"))\n",
        "    count=count+1\n",
        "    sum = sum+number\n",
        "avg = sum/10\n",
        "print(\"Average is :\",avg)"
      ],
      "metadata": {
        "colab": {
          "base_uri": "https://localhost:8080/"
        },
        "id": "k2hVwtID-SQb",
        "outputId": "8d4e649f-5905-4ace-cadc-d839816dc803"
      },
      "execution_count": null,
      "outputs": [
        {
          "output_type": "stream",
          "name": "stdout",
          "text": [
            "Enter a real number: 1\n",
            "Enter a real number: 2\n",
            "Enter a real number: 3\n",
            "Enter a real number: 4\n",
            "Enter a real number: 5\n",
            "Enter a real number: 6\n",
            "Enter a real number: 7\n",
            "Enter a real number: 8\n",
            "Enter a real number: 9\n",
            "Enter a real number: 10\n",
            "Average is : 5.5\n"
          ]
        }
      ]
    },
    {
      "cell_type": "markdown",
      "source": [
        "2. Python program to display the given integer in a reverse manner"
      ],
      "metadata": {
        "id": "c5AWIOK6UUoX"
      }
    },
    {
      "cell_type": "code",
      "source": [
        "number = int(input(\"Enter a positive integer: \"))\n",
        "rev = 0\n",
        "while(number!=0):\n",
        "    digit = number%10\n",
        "    rev = (rev*10)+digit\n",
        "    number = number//10\n",
        "print(rev)"
      ],
      "metadata": {
        "colab": {
          "base_uri": "https://localhost:8080/"
        },
        "id": "XQnmlnK7_IMq",
        "outputId": "c74a5122-c1fe-4862-9006-8edaa741519f"
      },
      "execution_count": null,
      "outputs": [
        {
          "output_type": "stream",
          "name": "stdout",
          "text": [
            "Enter a positive integer: 765\n",
            "567\n"
          ]
        }
      ]
    },
    {
      "cell_type": "markdown",
      "source": [
        "3. Python program to display all the multiples of 3 within the range 10 to 50"
      ],
      "metadata": {
        "id": "19K89wy-Uxre"
      }
    },
    {
      "cell_type": "code",
      "source": [
        "for i in range(10,50):\n",
        "    if (i%3==0):\n",
        "        print(i)"
      ],
      "metadata": {
        "colab": {
          "base_uri": "https://localhost:8080/"
        },
        "id": "vCO2v2fdUaId",
        "outputId": "bf1de42b-f053-4960-a563-9b4ae625938b"
      },
      "execution_count": null,
      "outputs": [
        {
          "output_type": "stream",
          "name": "stdout",
          "text": [
            "12\n",
            "15\n",
            "18\n",
            "21\n",
            "24\n",
            "27\n",
            "30\n",
            "33\n",
            "36\n",
            "39\n",
            "42\n",
            "45\n",
            "48\n"
          ]
        }
      ]
    },
    {
      "cell_type": "markdown",
      "source": [
        "4. Print characters of a string using a for loop."
      ],
      "metadata": {
        "id": "Z_kJ5WolVC5-"
      }
    },
    {
      "cell_type": "code",
      "source": [
        "my_string = \"Hello\"\n",
        "for char in my_string:\n",
        "    print(char)"
      ],
      "metadata": {
        "colab": {
          "base_uri": "https://localhost:8080/"
        },
        "id": "SMJnDuYBU2nd",
        "outputId": "be076b95-d216-45c6-e571-3be8b4b0223b"
      },
      "execution_count": null,
      "outputs": [
        {
          "output_type": "stream",
          "name": "stdout",
          "text": [
            "H\n",
            "e\n",
            "l\n",
            "l\n",
            "o\n"
          ]
        }
      ]
    },
    {
      "cell_type": "markdown",
      "source": [
        "5. Count the number of vowels in a string using a for loop."
      ],
      "metadata": {
        "id": "m5EbnTd3XHd3"
      }
    },
    {
      "cell_type": "code",
      "source": [
        "my_string = input(\"Enter any string: \")\n",
        "vowels = \"AEIOUaeiou\"\n",
        "count = 0\n",
        "for char in my_string:\n",
        "    if char in vowels:\n",
        "        count += 1\n",
        "print(count)"
      ],
      "metadata": {
        "colab": {
          "base_uri": "https://localhost:8080/"
        },
        "id": "-2ESlkTOVrtL",
        "outputId": "4c15da17-5c7c-4c17-8bbc-f29f085ef9e8"
      },
      "execution_count": null,
      "outputs": [
        {
          "output_type": "stream",
          "name": "stdout",
          "text": [
            "Enter any string: Happy New Year\n",
            "4\n"
          ]
        }
      ]
    },
    {
      "cell_type": "code",
      "source": [],
      "metadata": {
        "id": "Njw6TWCvXMKF"
      },
      "execution_count": null,
      "outputs": []
    },
    {
      "cell_type": "markdown",
      "source": [
        "# List"
      ],
      "metadata": {
        "id": "mOPFPXrKX7N_"
      }
    },
    {
      "cell_type": "markdown",
      "source": [
        "1. Create a list and print"
      ],
      "metadata": {
        "id": "J1kDwcU3YBhm"
      }
    },
    {
      "cell_type": "code",
      "source": [
        "my_list = [1,2,\"Hello\",5.5]\n",
        "print(my_list)\n",
        "for i in my_list:\n",
        "  print(i)\n",
        "\n",
        "print(\"Length of the list: \", len(my_list))"
      ],
      "metadata": {
        "colab": {
          "base_uri": "https://localhost:8080/"
        },
        "id": "93ukEuChX9l9",
        "outputId": "f1507b5a-3535-45cd-fd16-326dff6bd636"
      },
      "execution_count": null,
      "outputs": [
        {
          "output_type": "stream",
          "name": "stdout",
          "text": [
            "[1, 2, 'Hello', 5.5]\n",
            "1\n",
            "2\n",
            "Hello\n",
            "5.5\n",
            "Length of the list:  4\n"
          ]
        }
      ]
    },
    {
      "cell_type": "markdown",
      "source": [
        "2. Write a Python program to sum all the items of a list"
      ],
      "metadata": {
        "id": "fuoML6dHZZ6n"
      }
    },
    {
      "cell_type": "code",
      "source": [
        "item = [1,7,-10,34,2,-8]\n",
        "sum = 0\n",
        "for i in item:\n",
        "  sum += i\n",
        "print(sum)"
      ],
      "metadata": {
        "colab": {
          "base_uri": "https://localhost:8080/"
        },
        "id": "6b31TbuZYuLl",
        "outputId": "edaba8f4-feb6-4b27-8c43-6be21b912e95"
      },
      "execution_count": null,
      "outputs": [
        {
          "output_type": "stream",
          "name": "stdout",
          "text": [
            "26\n"
          ]
        }
      ]
    },
    {
      "cell_type": "markdown",
      "source": [
        "3. Write a Python program to get the largest number from a list"
      ],
      "metadata": {
        "id": "3FX2tmuiZ16P"
      }
    },
    {
      "cell_type": "code",
      "source": [
        "a = [1, 7, 10, 34, 2, 8]\n",
        "\n",
        "max_value = a[0]\n",
        "min_value = a[0]\n",
        "\n",
        "for i in a:\n",
        "    if i > max_value:\n",
        "        max_value = i\n",
        "    elif i < min_value:\n",
        "        min_value = i\n",
        "\n",
        "print(max_value, \"is the largest number\")\n",
        "print(min_value, \"is the smallest number\")"
      ],
      "metadata": {
        "colab": {
          "base_uri": "https://localhost:8080/"
        },
        "id": "1izHnVSeZvwl",
        "outputId": "4f1d4604-2e12-458c-ab78-2fddabda6792"
      },
      "execution_count": null,
      "outputs": [
        {
          "output_type": "stream",
          "name": "stdout",
          "text": [
            "34 is the largest number\n",
            "1 is the smallest number\n"
          ]
        }
      ]
    },
    {
      "cell_type": "code",
      "source": [],
      "metadata": {
        "id": "I2KwkRdlkH51"
      },
      "execution_count": null,
      "outputs": []
    },
    {
      "cell_type": "markdown",
      "source": [
        "4. Write a Program that get two lists as input and check if they have any common member"
      ],
      "metadata": {
        "id": "-2nnI1Lii1K_"
      }
    },
    {
      "cell_type": "code",
      "source": [
        "list1 = [1, 2, 7, 4, 5]\n",
        "list2 = [5, 6, 7, 8, 9]\n",
        "result = 0\n",
        "\n",
        "for x in list1:\n",
        "    for y in list2:\n",
        "        if x == y:\n",
        "            result += 1\n",
        "print(result)\n",
        "\n",
        "if result:\n",
        "    print(f\"Lists have {result} common member\")\n",
        "else:\n",
        "    print(\"Lists do not have any common member\")"
      ],
      "metadata": {
        "colab": {
          "base_uri": "https://localhost:8080/"
        },
        "id": "UAzQ1HpPay6L",
        "outputId": "81121f73-dcc8-43fa-da90-748b86cc9458"
      },
      "execution_count": null,
      "outputs": [
        {
          "output_type": "stream",
          "name": "stdout",
          "text": [
            "2\n",
            "Lists have 2 common member\n"
          ]
        }
      ]
    },
    {
      "cell_type": "markdown",
      "source": [
        "5.  Python program to find the odd numbers in a list"
      ],
      "metadata": {
        "id": "vphLcPcylD7v"
      }
    },
    {
      "cell_type": "code",
      "source": [
        "numbers = [8,3,1,6,2,4,5,9]\n",
        "count = 0\n",
        "for i in range(len(numbers)):\n",
        "    if(numbers[i]%2!=0):\n",
        "        count = count+1\n",
        "print(\"The number of odd numbers in the list are: \", count)"
      ],
      "metadata": {
        "colab": {
          "base_uri": "https://localhost:8080/"
        },
        "id": "gvz9p4G-i9Am",
        "outputId": "669b602e-0ae7-4d77-9d39-7118e64de2f9"
      },
      "execution_count": null,
      "outputs": [
        {
          "output_type": "stream",
          "name": "stdout",
          "text": [
            "The number of odd numbers in the list are:  4\n"
          ]
        }
      ]
    },
    {
      "cell_type": "code",
      "source": [],
      "metadata": {
        "id": "DGWrrAg1lJBF"
      },
      "execution_count": null,
      "outputs": []
    },
    {
      "cell_type": "markdown",
      "source": [
        "# Tuple"
      ],
      "metadata": {
        "id": "Uf923XplM8SF"
      }
    },
    {
      "cell_type": "markdown",
      "source": [
        "1. Create a tuple with elements 'apple', 'banana', and 'cherry' and find length of the tuple"
      ],
      "metadata": {
        "id": "In5wmKs1NYc2"
      }
    },
    {
      "cell_type": "code",
      "source": [
        "my_tuple = (\"apple\", \"banana\", \"cherry\")\n",
        "print(my_tuple)\n",
        "print(len(my_tuple))"
      ],
      "metadata": {
        "colab": {
          "base_uri": "https://localhost:8080/"
        },
        "id": "YyjSnwSVNA1i",
        "outputId": "6d519d38-24e1-41aa-c48b-ffba290bb15c"
      },
      "execution_count": null,
      "outputs": [
        {
          "output_type": "stream",
          "name": "stdout",
          "text": [
            "('apple', 'banana', 'cherry')\n",
            "3\n"
          ]
        }
      ]
    },
    {
      "cell_type": "markdown",
      "source": [
        "2. Concatenate two tuples and display the result."
      ],
      "metadata": {
        "id": "qOfjvJ1SOeAd"
      }
    },
    {
      "cell_type": "code",
      "source": [
        "tuple1 = (1,2,3)\n",
        "tuple2 = (\"apple\", \"banana\", \"cherry\")\n",
        "tuple3 = tuple1 + tuple2\n",
        "tuple3"
      ],
      "metadata": {
        "colab": {
          "base_uri": "https://localhost:8080/"
        },
        "id": "cdbTJFsDNutT",
        "outputId": "dbe7cf9a-867b-4ed5-82e8-a22f7b1859a2"
      },
      "execution_count": null,
      "outputs": [
        {
          "output_type": "execute_result",
          "data": {
            "text/plain": [
              "(1, 2, 3, 'apple', 'banana', 'cherry')"
            ]
          },
          "metadata": {},
          "execution_count": 4
        }
      ]
    },
    {
      "cell_type": "markdown",
      "source": [
        "3. Count the number of occurrences of an element in a tuple."
      ],
      "metadata": {
        "id": "lIPou3vEO8Jl"
      }
    },
    {
      "cell_type": "code",
      "source": [
        "my_tuple = (1,2,3,2,4,2,5)\n",
        "count = my_tuple.count(2)\n",
        "count"
      ],
      "metadata": {
        "colab": {
          "base_uri": "https://localhost:8080/"
        },
        "id": "kg3o0uIoOzUr",
        "outputId": "853237bb-97e1-454e-e37e-59c45ad0afb2"
      },
      "execution_count": null,
      "outputs": [
        {
          "output_type": "execute_result",
          "data": {
            "text/plain": [
              "3"
            ]
          },
          "metadata": {},
          "execution_count": 5
        }
      ]
    },
    {
      "cell_type": "markdown",
      "source": [
        "4.  Convert a given list into a tuple."
      ],
      "metadata": {
        "id": "jUHBLlzcPSe8"
      }
    },
    {
      "cell_type": "code",
      "source": [
        "my_list = [1, 2, 3, 4, 5]\n",
        "converted_tuple = tuple(my_list)\n",
        "print(converted_tuple)"
      ],
      "metadata": {
        "colab": {
          "base_uri": "https://localhost:8080/"
        },
        "id": "1j5q0O2fPIoz",
        "outputId": "e97daaa6-e9eb-4674-bb3b-1f8882d3ae85"
      },
      "execution_count": null,
      "outputs": [
        {
          "output_type": "stream",
          "name": "stdout",
          "text": [
            "(1, 2, 3, 4, 5)\n"
          ]
        }
      ]
    },
    {
      "cell_type": "markdown",
      "source": [
        "5. Check if a specific element exists in a tuple."
      ],
      "metadata": {
        "id": "wRkSDdVBPeZt"
      }
    },
    {
      "cell_type": "code",
      "source": [
        "my_tuple = (5, 10, 15, 20)\n",
        "element = 15\n",
        "exists = element in my_tuple\n",
        "print(exists)"
      ],
      "metadata": {
        "colab": {
          "base_uri": "https://localhost:8080/"
        },
        "id": "KgWIiSnmPWIr",
        "outputId": "75ebc4fd-56e7-4524-c10c-b7bc1efd75ce"
      },
      "execution_count": null,
      "outputs": [
        {
          "output_type": "stream",
          "name": "stdout",
          "text": [
            "True\n"
          ]
        }
      ]
    },
    {
      "cell_type": "code",
      "source": [],
      "metadata": {
        "id": "7o36O0c7PhvK"
      },
      "execution_count": null,
      "outputs": []
    },
    {
      "cell_type": "markdown",
      "source": [
        "# Disctionary"
      ],
      "metadata": {
        "id": "elWUo1QZPo_N"
      }
    },
    {
      "cell_type": "markdown",
      "source": [
        "1. Create a dictionary and print keys and values"
      ],
      "metadata": {
        "id": "2R53jhyqWnFK"
      }
    },
    {
      "cell_type": "code",
      "source": [
        "my_dict = {\"Name\":\"Delowar Hossain\", \"Age\":24, \"City\":\"Dhaka\"}\n",
        "print(my_dict)\n",
        "keys = my_dict.keys()\n",
        "values = my_dict.values()\n",
        "items = my_dict.items()\n",
        "print(keys)\n",
        "print(values)\n",
        "print(items)\n",
        "#using for loop\n",
        "for key, value in my_dict.items():\n",
        "  print(key, \":\", value)"
      ],
      "metadata": {
        "colab": {
          "base_uri": "https://localhost:8080/"
        },
        "id": "8wqhi5oDPtQr",
        "outputId": "2b83add8-8ff8-4f62-a76d-f432ea850d58"
      },
      "execution_count": null,
      "outputs": [
        {
          "output_type": "stream",
          "name": "stdout",
          "text": [
            "{'Name': 'Delowar Hossain', 'Age': 24, 'City': 'Dhaka'}\n",
            "dict_keys(['Name', 'Age', 'City'])\n",
            "dict_values(['Delowar Hossain', 24, 'Dhaka'])\n",
            "dict_items([('Name', 'Delowar Hossain'), ('Age', 24), ('City', 'Dhaka')])\n",
            "Name : Delowar Hossain\n",
            "Age : 24\n",
            "City : Dhaka\n"
          ]
        }
      ]
    },
    {
      "cell_type": "markdown",
      "source": [
        "2. Add a new key-value pair \"Profession\" with the value \"Software Engineer\" to the my_dict dictionary."
      ],
      "metadata": {
        "id": "V_rHQJtxZKbL"
      }
    },
    {
      "cell_type": "code",
      "source": [
        "my_dict[\"Profession\"] = \"Software Engineer\"\n",
        "my_dict"
      ],
      "metadata": {
        "colab": {
          "base_uri": "https://localhost:8080/"
        },
        "id": "2whqY31HXIen",
        "outputId": "79155075-a1d2-4920-fc0a-c133af8a5814"
      },
      "execution_count": null,
      "outputs": [
        {
          "output_type": "execute_result",
          "data": {
            "text/plain": [
              "{'Name': 'Delowar Hossain',\n",
              " 'Age': 24,\n",
              " 'City': 'Dhaka',\n",
              " 'Profession': 'Software Engineer'}"
            ]
          },
          "metadata": {},
          "execution_count": 14
        }
      ]
    },
    {
      "cell_type": "markdown",
      "source": [
        "3. Write a Python program to check whether a given key already exists in a dictionary."
      ],
      "metadata": {
        "id": "Yn6QQMpqe-ys"
      }
    },
    {
      "cell_type": "code",
      "source": [
        "if \"Name\" in my_dict:\n",
        "  print(\"Key is available in the Dictionary\")\n",
        "else:\n",
        "  print(\"Key is not available in the Dictionary\")"
      ],
      "metadata": {
        "colab": {
          "base_uri": "https://localhost:8080/"
        },
        "id": "uTt9hc7VZ_gp",
        "outputId": "5d325cdf-0ecf-4998-8a50-0bbd80b1f68a"
      },
      "execution_count": null,
      "outputs": [
        {
          "output_type": "stream",
          "name": "stdout",
          "text": [
            "Key is not available in the Dictionary\n"
          ]
        }
      ]
    },
    {
      "cell_type": "markdown",
      "source": [
        "4. Write a Python program to Merge two Python dictionaries into one"
      ],
      "metadata": {
        "id": "_OBIWeVugIsa"
      }
    },
    {
      "cell_type": "code",
      "source": [
        "keys = [\"One\", \"Two\", \"Three\", \"Four\", \"Five\"]\n",
        "values = [1, 2, 3, 4, 5]\n",
        "\n",
        "res = dict(zip(keys, values))\n",
        "print(res)\n"
      ],
      "metadata": {
        "colab": {
          "base_uri": "https://localhost:8080/"
        },
        "id": "453xrKBffepE",
        "outputId": "3b7dcafc-bbff-4610-b22e-d50be783e33b"
      },
      "execution_count": 21,
      "outputs": [
        {
          "output_type": "stream",
          "name": "stdout",
          "text": [
            "{'One': 1, 'Two': 2, 'Three': 3, 'Four': 4, 'Five': 5}\n"
          ]
        }
      ]
    },
    {
      "cell_type": "markdown",
      "source": [
        "5. Merge two python dictionaries into one dictionary"
      ],
      "metadata": {
        "id": "fyJg2EB-iKG8"
      }
    },
    {
      "cell_type": "code",
      "source": [
        "# Given dictionaries\n",
        "dict1 = {'Ten': 10, 'Twenty': 20, 'Thirty': 30}\n",
        "dict2 = {'Thirty': 30, 'Fourty': 40, 'Fifty': 50}\n",
        "\n",
        "# Create a copy of dict1\n",
        "d = dict(dict1)\n",
        "\n",
        "# Update the copy with the elements from dict2\n",
        "d.update(dict(dict2))\n",
        "\n",
        "# Print the resulting merged dictionary\n",
        "print(d)"
      ],
      "metadata": {
        "id": "G2_WMgesgO2J",
        "colab": {
          "base_uri": "https://localhost:8080/"
        },
        "outputId": "1736bb2d-8916-41de-f1c5-e98aded22d2f"
      },
      "execution_count": 23,
      "outputs": [
        {
          "output_type": "stream",
          "name": "stdout",
          "text": [
            "{'Ten': 10, 'Twenty': 20, 'Thirty': 30, 'Fourty': 40, 'Fifty': 50}\n"
          ]
        }
      ]
    },
    {
      "cell_type": "code",
      "source": [],
      "metadata": {
        "id": "IxJ7cCWaiN6j"
      },
      "execution_count": null,
      "outputs": []
    },
    {
      "cell_type": "markdown",
      "source": [
        "# Function"
      ],
      "metadata": {
        "id": "LuERT5ftjKiO"
      }
    },
    {
      "cell_type": "markdown",
      "source": [
        "1. Write a Python function to find the maximum of three numbers."
      ],
      "metadata": {
        "id": "owIlLLOqjoM0"
      }
    },
    {
      "cell_type": "code",
      "source": [
        "def find_max(num1, num2, num3):\n",
        "    return max(num1, num2, num3)\n",
        "\n",
        "find_max(23,3,45)"
      ],
      "metadata": {
        "colab": {
          "base_uri": "https://localhost:8080/"
        },
        "id": "xicIOIwwjNUM",
        "outputId": "ced225b2-7924-496a-ce02-d94356ff1d0a"
      },
      "execution_count": 28,
      "outputs": [
        {
          "output_type": "execute_result",
          "data": {
            "text/plain": [
              "45"
            ]
          },
          "metadata": {},
          "execution_count": 28
        }
      ]
    },
    {
      "cell_type": "markdown",
      "source": [
        "2. Create a function to calculate the factorial of a given number."
      ],
      "metadata": {
        "id": "0KUOt58LlSRk"
      }
    },
    {
      "cell_type": "code",
      "source": [
        "def factorial(n):\n",
        "    if n == 0 or n == 1:\n",
        "        return 1\n",
        "    else:\n",
        "        return n * factorial(n-1)\n",
        "\n",
        "factorial(6)"
      ],
      "metadata": {
        "colab": {
          "base_uri": "https://localhost:8080/"
        },
        "id": "xxCCuH3HkeYe",
        "outputId": "d57dde90-6987-4e34-f5e2-a220824623a6"
      },
      "execution_count": 31,
      "outputs": [
        {
          "output_type": "execute_result",
          "data": {
            "text/plain": [
              "720"
            ]
          },
          "metadata": {},
          "execution_count": 31
        }
      ]
    },
    {
      "cell_type": "markdown",
      "source": [
        "3. Write a function to generate the Fibonacci sequence up to a specified term."
      ],
      "metadata": {
        "id": "x06mF8lin1j4"
      }
    },
    {
      "cell_type": "code",
      "source": [
        "def fibonacci(n):\n",
        "    fib_sequence = [0, 1]\n",
        "    while len(fib_sequence) < n:\n",
        "        fib_sequence.append(fib_sequence[-1] + fib_sequence[-2])\n",
        "    return fib_sequence\n",
        "\n",
        "fibonacci(9)"
      ],
      "metadata": {
        "colab": {
          "base_uri": "https://localhost:8080/"
        },
        "id": "Vkp3O_nnlYIo",
        "outputId": "83cd5584-79dd-4cca-b615-dad408e3ad20"
      },
      "execution_count": 35,
      "outputs": [
        {
          "output_type": "execute_result",
          "data": {
            "text/plain": [
              "[0, 1, 1, 2, 3, 5, 8, 13, 21]"
            ]
          },
          "metadata": {},
          "execution_count": 35
        }
      ]
    },
    {
      "cell_type": "markdown",
      "source": [
        "4. Implement a function to check if a given string is a palindrome."
      ],
      "metadata": {
        "id": "4CmL2OzUorRu"
      }
    },
    {
      "cell_type": "code",
      "source": [
        "def is_palindrome(s):\n",
        "    # Check if the string is equal to its reverse\n",
        "    return s == s[::-1]\n",
        "\n",
        "result = is_palindrome(\"Delowar\")\n",
        "print(result)"
      ],
      "metadata": {
        "colab": {
          "base_uri": "https://localhost:8080/"
        },
        "id": "wtVArkMfl80W",
        "outputId": "08d12017-4f03-4a1b-8694-465b94603411"
      },
      "execution_count": 39,
      "outputs": [
        {
          "output_type": "stream",
          "name": "stdout",
          "text": [
            "False\n"
          ]
        }
      ]
    },
    {
      "cell_type": "markdown",
      "source": [
        "5. Develop a function to check if a given year is a leap year."
      ],
      "metadata": {
        "id": "1WSd00eUovkU"
      }
    },
    {
      "cell_type": "code",
      "source": [
        "def is_leap_year(year):\n",
        "    if (year % 4 == 0 and year % 100 != 0) or (year % 400 == 0):\n",
        "        return True\n",
        "    else:\n",
        "        return False\n",
        "\n",
        "result = is_leap_year(2019)\n",
        "print(result)"
      ],
      "metadata": {
        "colab": {
          "base_uri": "https://localhost:8080/"
        },
        "id": "s1f-ckOaoPlt",
        "outputId": "163d1c15-46bb-4b46-d403-593e36b30ee5"
      },
      "execution_count": 41,
      "outputs": [
        {
          "output_type": "stream",
          "name": "stdout",
          "text": [
            "False\n"
          ]
        }
      ]
    },
    {
      "cell_type": "code",
      "source": [],
      "metadata": {
        "id": "BIaPfjFro8M6"
      },
      "execution_count": null,
      "outputs": []
    }
  ]
}